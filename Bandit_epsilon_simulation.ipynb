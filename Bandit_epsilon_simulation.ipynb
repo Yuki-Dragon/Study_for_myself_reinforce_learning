{
 "cells": [
  {
   "cell_type": "code",
   "execution_count": 47,
   "metadata": {},
   "outputs": [],
   "source": [
    "import numpy as np\n",
    "import matplotlib.pyplot as plt\n",
    "\n",
    "Num_try = 100000\n",
    "Eps =0.1\n",
    "Bandit_prob = [0.2,0.5,0.75]"
   ]
  },
  {
   "cell_type": "code",
   "execution_count": 48,
   "metadata": {},
   "outputs": [],
   "source": [
    "class Bandit():\n",
    "    def __init__(self,p): # p:winning rate- pretend not to know what these are\n",
    "        self.p = p\n",
    "        self.p_estimate = 0\n",
    "        self.N = 0\n",
    "        \n",
    "    def pull(self): # return a 1 with p\n",
    "        return np.random.random() < self.p # random takes [0,1] randomly\n",
    "    \n",
    "    def update(self, x):\n",
    "        self.N +=1\n",
    "        self.p_estimate = (1/self.N)*(x + self.p_estimate*(self.N-1))\n",
    "        # Using the formula below\n",
    "        # <p>_n*N = p_n(=x) + <p>_(n-1)*(N-1)\n",
    "        \n",
    "def experiment(Eps):\n",
    "    bandits = [Bandit(p) for p in Bandit_prob] # we don't know what are in Bandit_prob\n",
    "    \n",
    "    rewards = np.zeros(Num_try)\n",
    "    num_explored = 0\n",
    "    num_exploited = 0\n",
    "    num_opt = 0\n",
    "    opt_j = np.argmax([b.p for b in bandits]) # # in bandit_prob\n",
    "\n",
    "    \n",
    "    for i in range(Num_try):\n",
    "        \n",
    "        # follow epsilon-greedy algorythm\n",
    "        if np.random.random() < Eps:# explore\n",
    "            num_explored += 1\n",
    "            # j is index\n",
    "            j = np.random.choice(list(range(len(bandits))))\n",
    "        else: # greed\n",
    "            num_exploited += 1\n",
    "            j = np.argmax([k.p_estimate for k in bandits])\n",
    "        \n",
    "        if j == opt_j:\n",
    "            num_opt += 1\n",
    "            \n",
    "        x = bandits[j].pull() #the chosen one can get reward or not?\n",
    "        \n",
    "        \n",
    "        rewards[i] = x\n",
    "        \n",
    "        bandits[j].update(x)\n",
    "        \n",
    "    return bandits, rewards, num_explored, num_exploited, opt_j\n",
    "        \n",
    "        "
   ]
  },
  {
   "cell_type": "code",
   "execution_count": 49,
   "metadata": {},
   "outputs": [
    {
     "ename": "AttributeError",
     "evalue": "'list' object has no attribute 'p_estimate'",
     "output_type": "error",
     "traceback": [
      "\u001b[0;31m---------------------------------------------------------------------------\u001b[0m",
      "\u001b[0;31mAttributeError\u001b[0m                            Traceback (most recent call last)",
      "\u001b[0;32m<ipython-input-49-f5084f2cfb9c>\u001b[0m in \u001b[0;36m<module>\u001b[0;34m\u001b[0m\n\u001b[1;32m      1\u001b[0m \u001b[0;32mfor\u001b[0m \u001b[0mb\u001b[0m \u001b[0;32min\u001b[0m \u001b[0mbandits\u001b[0m\u001b[0;34m:\u001b[0m\u001b[0;34m\u001b[0m\u001b[0;34m\u001b[0m\u001b[0m\n\u001b[0;32m----> 2\u001b[0;31m     \u001b[0mprint\u001b[0m\u001b[0;34m(\u001b[0m\u001b[0;34m\"mean_estimate\"\u001b[0m\u001b[0;34m,\u001b[0m\u001b[0mb\u001b[0m\u001b[0;34m.\u001b[0m\u001b[0mp_estimate\u001b[0m\u001b[0;34m)\u001b[0m\u001b[0;34m\u001b[0m\u001b[0;34m\u001b[0m\u001b[0m\n\u001b[0m\u001b[1;32m      3\u001b[0m \u001b[0;34m\u001b[0m\u001b[0m\n\u001b[1;32m      4\u001b[0m \u001b[0mprint\u001b[0m\u001b[0;34m(\u001b[0m\u001b[0;34m\"total_reward\"\u001b[0m\u001b[0;34m,\u001b[0m \u001b[0mrewards\u001b[0m\u001b[0;34m.\u001b[0m\u001b[0msum\u001b[0m\u001b[0;34m(\u001b[0m\u001b[0;34m)\u001b[0m\u001b[0;34m)\u001b[0m\u001b[0;34m\u001b[0m\u001b[0;34m\u001b[0m\u001b[0m\n\u001b[1;32m      5\u001b[0m \u001b[0mprint\u001b[0m\u001b[0;34m(\u001b[0m\u001b[0;34m\"overall_rate\"\u001b[0m\u001b[0;34m,\u001b[0m\u001b[0mrewards\u001b[0m\u001b[0;34m.\u001b[0m\u001b[0msum\u001b[0m\u001b[0;34m(\u001b[0m\u001b[0;34m)\u001b[0m \u001b[0;34m/\u001b[0m \u001b[0mNum_try\u001b[0m\u001b[0;34m)\u001b[0m\u001b[0;34m\u001b[0m\u001b[0;34m\u001b[0m\u001b[0m\n",
      "\u001b[0;31mAttributeError\u001b[0m: 'list' object has no attribute 'p_estimate'"
     ]
    }
   ],
   "source": [
    "for b in bandits:\n",
    "    print(\"mean_estimate\",b.p_estimate)\n",
    "    \n",
    "print(\"total_reward\", rewards.sum())\n",
    "print(\"overall_rate\",rewards.sum() / Num_try)\n",
    "print(\"num_exploited\",num_exploited)\n",
    "print(\"num_explored\",num_explored)\n",
    "print(\"num_opt\",opt_j)\n"
   ]
  },
  {
   "cell_type": "code",
   "execution_count": 54,
   "metadata": {},
   "outputs": [],
   "source": [
    "Num_try = 10000\n",
    "Eps = [0.5,0.4,0.2,0.05,0.01]\n",
    "\n",
    "\n",
    "bandits = []\n",
    "rewards = []\n",
    "num_explored = []\n",
    "num_exploited = []\n",
    "opt_j = []\n",
    "\n",
    "\n",
    "for i in range(len(Eps)):\n",
    "    bandit, reward, num_explored_, num_exploited_, opt_j_ = experiment(Eps[i])\n",
    "    bandits = bandits + [bandit]\n",
    "    rewards =rewards + [reward]\n",
    "    num_explored  = num_explored + [num_explored_]\n",
    "    num_exploited = num_exploited + [num_exploited_]\n",
    "    opt_j =opt_j + [opt_j_]\n",
    "\n"
   ]
  },
  {
   "cell_type": "code",
   "execution_count": 61,
   "metadata": {},
   "outputs": [
    {
     "data": {
      "image/png": "[encoded data removed]",
      "text/plain": [
       "<Figure size 432x288 with 1 Axes>"
      ]
     },
     "metadata": {
      "needs_background": "light"
     },
     "output_type": "display_data"
    }
   ],
   "source": [
    "fig = plt.figure(1)\n",
    "plt.plot(np.ones(Num_try)*np.max(Bandit_prob),c='k')\n",
    "for i in range(len(Eps)):\n",
    "    cum_rewards = np.cumsum(rewards[i])\n",
    "    win_rates = cum_rewards / (np.arange(Num_try) + 1)\n",
    "    lab = '\\u03B5' +' ' + str(Eps[i])\n",
    "    plt.plot(win_rates,label = lab)\n",
    "\n",
    "\n",
    "\n",
    "\n",
    "plt.legend(fontsize = 13)\n",
    "plt.savefig('bandit_epsilon.png')"
   ]
  },
  {
   "cell_type": "code",
   "execution_count": 58,
   "metadata": {},
   "outputs": [
    {
     "data": {
      "text/plain": [
       "'ε'"
      ]
     },
     "execution_count": 58,
     "metadata": {},
     "output_type": "execute_result"
    }
   ],
   "source": [
    "'\\u03B5'"
   ]
  },
  {
   "cell_type": "code",
   "execution_count": null,
   "metadata": {},
   "outputs": [],
   "source": []
  }
 ],
 "metadata": {
  "kernelspec": {
   "display_name": "Python 3",
   "language": "python",
   "name": "python3"
  },
  "language_info": {
   "codemirror_mode": {
    "name": "ipython",
    "version": 3
   },
   "file_extension": ".py",
   "mimetype": "text/x-python",
   "name": "python",
   "nbconvert_exporter": "python",
   "pygments_lexer": "ipython3",
   "version": "3.7.4"
  }
 },
 "nbformat": 4,
 "nbformat_minor": 2
}
