{
 "cells": [
  {
   "cell_type": "code",
   "execution_count": null,
   "metadata": {},
   "outputs": [],
   "source": [
    "# Instead relys on the randomness of epsilon, ubc uses hysteric prob p_j = p_ave + sqrt(2*np.log(num_plays) / (num_nj_plays))\n",
    "# eventually n_j is getting to the order of N, resulting p_ave. but takes arg_max. Otherwise it will never converge\n",
    "# still random in rewards"
   ]
  },
  {
   "cell_type": "code",
   "execution_count": 32,
   "metadata": {},
   "outputs": [],
   "source": [
    "import numpy as np\n",
    "import matplotlib.pyplot as plt\n",
    "\n",
    "Num_try = 500000\n",
    "\n",
    "Bandit_prob = [0.2,0.5,0.75]"
   ]
  },
  {
   "cell_type": "code",
   "execution_count": 33,
   "metadata": {},
   "outputs": [],
   "source": [
    "class Bandit():\n",
    "    def __init__(self,p): # p:winning rate- pretend not to know what these are\n",
    "        self.p = p\n",
    "        self.p_estimate = 0\n",
    "        self.N = 0\n",
    "        \n",
    "    def pull(self): # return a 1 with p\n",
    "        return np.random.random() < self.p # random takes [0,1] randomly\n",
    "    \n",
    "    def update(self, x):\n",
    "        self.N +=1\n",
    "        self.p_estimate = (1/self.N)*(x + self.p_estimate*(self.N-1))\n",
    "        # Using the formula below\n",
    "        # <p>_n*N = p_n(=x) + <p>_(n-1)*(N-1)\n",
    "        \n",
    "        \n",
    "def ucb1(mean, n ,nj):\n",
    "    res = mean + np.sqrt(2*np.log(n) / nj)\n",
    "    return res\n",
    "        \n",
    "def experiment():\n",
    "    bandits = [Bandit(p) for p in Bandit_prob] # we don't know what are in Bandit_prob \n",
    "    rewards = np.zeros(Num_try)\n",
    "    num_plays = 0\n",
    "\n",
    "    # Initialzation: play once\n",
    "    for i in range(len(bandits)):\n",
    "        x = bandits[i].pull()\n",
    "        num_plays +=1\n",
    "        bandits[i].update(x)\n",
    "        \n",
    "    for j in range(Num_try):\n",
    "        ind = np.argmax([ucb1(k.p_estimate, num_plays, k.N) for k in bandits])\n",
    "        x = bandits[ind].pull()\n",
    "        num_plays += 1\n",
    "        bandits[ind].update(x)\n",
    "        \n",
    "        rewards[j] = x\n",
    "        \n",
    "    cum_ave = np.cumsum(rewards) / (np.arange(Num_try) +1)\n",
    "        \n",
    "    return bandits, rewards, cum_ave\n",
    "        \n",
    "        "
   ]
  },
  {
   "cell_type": "code",
   "execution_count": 34,
   "metadata": {},
   "outputs": [],
   "source": [
    "bandits, rewards, cum_ave = experiment()"
   ]
  },
  {
   "cell_type": "code",
   "execution_count": 35,
   "metadata": {},
   "outputs": [
    {
     "name": "stdout",
     "output_type": "stream",
     "text": [
      "mean_estimate 0.20689655172413776\n",
      "mean_estimate 0.508158508158508\n",
      "mean_estimate 0.749370854496744\n",
      "total_reward 374537.0\n",
      "overall_rate 0.749074\n",
      "max_p_ind:  2\n"
     ]
    }
   ],
   "source": [
    "for b in bandits:\n",
    "    print(\"mean_estimate\",b.p_estimate)\n",
    "    \n",
    "print(\"total_reward\", rewards.sum())\n",
    "print(\"overall_rate\",rewards.sum() / Num_try)\n",
    "\n",
    "max_p_ind = np.argmax([k.p_estimate for k in bandits])\n",
    "print(\"max_p_ind: \",max_p_ind)"
   ]
  },
  {
   "cell_type": "code",
   "execution_count": 36,
   "metadata": {},
   "outputs": [
    {
     "data": {
      "image/png": "[encoded data removed]",
      "text/plain": [
       "<Figure size 432x288 with 1 Axes>"
      ]
     },
     "metadata": {
      "needs_background": "light"
     },
     "output_type": "display_data"
    }
   ],
   "source": [
    "cum_rewards = np.cumsum(rewards)\n",
    "win_rates = cum_rewards / (np.arange(Num_try) + 1)\n",
    "plt.plot(win_rates)\n",
    "plt.plot(np.ones(Num_try)*np.max(Bandit_prob))\n",
    "plt.xlim(Num_try*0.8,Num_try*1.01)\n",
    "plt.ylim(0.7,0.8)\n",
    "plt.show()\n",
    "\n"
   ]
  },
  {
   "cell_type": "code",
   "execution_count": null,
   "metadata": {},
   "outputs": [],
   "source": []
  }
 ],
 "metadata": {
  "kernelspec": {
   "display_name": "Python 3",
   "language": "python",
   "name": "python3"
  },
  "language_info": {
   "codemirror_mode": {
    "name": "ipython",
    "version": 3
   },
   "file_extension": ".py",
   "mimetype": "text/x-python",
   "name": "python",
   "nbconvert_exporter": "python",
   "pygments_lexer": "ipython3",
   "version": "3.7.4"
  }
 },
 "nbformat": 4,
 "nbformat_minor": 2
}
